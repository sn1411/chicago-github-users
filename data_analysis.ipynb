{
 "cells": [
  {
   "cell_type": "markdown",
   "metadata": {},
   "source": [
    "# Import libraries and necessary files"
   ]
  },
  {
   "cell_type": "code",
   "execution_count": 2,
   "metadata": {},
   "outputs": [],
   "source": [
    "# Import necessary libraries\n",
    "import pandas as pd\n",
    "import numpy as np \n",
    "from sklearn.linear_model import LinearRegression\n",
    "\n",
    "import warnings\n",
    "warnings.filterwarnings('ignore')"
   ]
  },
  {
   "cell_type": "code",
   "execution_count": 3,
   "metadata": {},
   "outputs": [],
   "source": [
    "# Read data files\n",
    "users = pd.read_csv('users.csv')\n",
    "repo = pd.read_csv('repositories.csv')"
   ]
  },
  {
   "cell_type": "markdown",
   "metadata": {},
   "source": [
    "# Who are the top 5 users in Chicago with the highest number of followers? List their login in order, comma-separated."
   ]
  },
  {
   "cell_type": "code",
   "execution_count": null,
   "metadata": {},
   "outputs": [],
   "source": [
    "users = users.sort_values(by ='followers', ascending=False)"
   ]
  },
  {
   "cell_type": "code",
   "execution_count": null,
   "metadata": {},
   "outputs": [],
   "source": [
    "users[\"login\"][:5].tolist()"
   ]
  },
  {
   "cell_type": "markdown",
   "metadata": {},
   "source": [
    "# Who are the 5 earliest registered GitHub users in Chicago? List their login in ascending order of created_at, comma-separated."
   ]
  },
  {
   "cell_type": "code",
   "execution_count": null,
   "metadata": {},
   "outputs": [],
   "source": [
    "users['created_at'] = pd.to_datetime(users['created_at'], errors='coerce')\n",
    "users = users.sort_values(by='created_at')\n",
    "users.head(5)[\"login\"].to_list()"
   ]
  },
  {
   "cell_type": "markdown",
   "metadata": {},
   "source": [
    "# What are the 3 most popular license among these users? Ignore missing licenses. List the license_name in order, comma-separated."
   ]
  },
  {
   "cell_type": "code",
   "execution_count": null,
   "metadata": {},
   "outputs": [],
   "source": [
    "repo['license_name'].value_counts()[:3]"
   ]
  },
  {
   "cell_type": "markdown",
   "metadata": {},
   "source": [
    "# Which company do the majority of these developers work at?"
   ]
  },
  {
   "cell_type": "code",
   "execution_count": null,
   "metadata": {},
   "outputs": [],
   "source": [
    "users[\"company\"].value_counts()[:1]"
   ]
  },
  {
   "cell_type": "markdown",
   "metadata": {},
   "source": [
    "# Which programming language is most popular among these users?"
   ]
  },
  {
   "cell_type": "code",
   "execution_count": null,
   "metadata": {},
   "outputs": [],
   "source": [
    "repo[\"language\"].value_counts()[:1]"
   ]
  },
  {
   "cell_type": "markdown",
   "metadata": {},
   "source": [
    "# Which programming language is the second most popular among users who joined after 2020?"
   ]
  },
  {
   "cell_type": "code",
   "execution_count": null,
   "metadata": {},
   "outputs": [],
   "source": [
    "usersrepo = pd.merge(users.rename(columns={'created_at':'user_created_at'}), \n",
    "                        repo.rename(columns ={'created_at':'repo_created_at'}),\n",
    "                         on='login', how =\"left\")\n",
    "usersrepo[usersrepo['user_created_at']>'2020']['language'].value_counts()[:2]"
   ]
  },
  {
   "cell_type": "markdown",
   "metadata": {},
   "source": [
    "# Which language has the highest average number of stars per repoitory?"
   ]
  },
  {
   "cell_type": "code",
   "execution_count": null,
   "metadata": {},
   "outputs": [],
   "source": [
    "repo.groupby('language')['stargazers_count'].mean().sort_values(ascending=False)[:1]"
   ]
  },
  {
   "cell_type": "markdown",
   "metadata": {},
   "source": [
    "# Let's define leader_strength as followers / (1 + following). Who are the top 5 in terms of leader_strength? List their login in order, comma-separated."
   ]
  },
  {
   "cell_type": "code",
   "execution_count": null,
   "metadata": {},
   "outputs": [],
   "source": [
    "users['leader_strength'] = users['followers']/(1+users['following'])"
   ]
  },
  {
   "cell_type": "code",
   "execution_count": null,
   "metadata": {},
   "outputs": [],
   "source": [
    "users.sort_values(by = 'leader_strength', ascending=False)['login'][:5]"
   ]
  },
  {
   "cell_type": "markdown",
   "metadata": {},
   "source": [
    "# What is the correlation between the number of followers and the number of public repoitories among users in Chicago?"
   ]
  },
  {
   "cell_type": "code",
   "execution_count": null,
   "metadata": {},
   "outputs": [],
   "source": [
    "users[['followers', 'public_repos']].dropna().corr().round(3)"
   ]
  },
  {
   "cell_type": "markdown",
   "metadata": {},
   "source": [
    "# Does creating more repos help users get more followers? Using regression, estimate how many additional followers a user gets per additional public repository."
   ]
  },
  {
   "cell_type": "code",
   "execution_count": null,
   "metadata": {},
   "outputs": [],
   "source": [
    "# Prepare the independent variable (reshaped for sklearn)\n",
    "X = users['public_repos'].values.reshape(-1, 1)\n",
    "\n",
    "# Dependent variable\n",
    "y = users['followers'].values\n",
    "\n",
    "# Create the linear regression model\n",
    "model = LinearRegression()\n",
    "\n",
    "# Fit the model\n",
    "model.fit(X, y)\n",
    "\n",
    "# Get the slope (coefficient)\n",
    "slope = model.coef_[0]\n",
    "\n",
    "# Round the slope to 3 decimal places\n",
    "slope_rounded = round(slope, 3)\n",
    "\n",
    "print(f\"Regression slope of followers on repos: {slope_rounded}\")"
   ]
  },
  {
   "cell_type": "markdown",
   "metadata": {},
   "source": [
    "# Do people typically enable projects and wikis together? What is the correlation between a repo having projects enabled and having wiki enabled?"
   ]
  },
  {
   "cell_type": "code",
   "execution_count": 14,
   "metadata": {},
   "outputs": [
    {
     "data": {
      "text/html": [
       "<div>\n",
       "<style scoped>\n",
       "    .dataframe tbody tr th:only-of-type {\n",
       "        vertical-align: middle;\n",
       "    }\n",
       "\n",
       "    .dataframe tbody tr th {\n",
       "        vertical-align: top;\n",
       "    }\n",
       "\n",
       "    .dataframe thead th {\n",
       "        text-align: right;\n",
       "    }\n",
       "</style>\n",
       "<table border=\"1\" class=\"dataframe\">\n",
       "  <thead>\n",
       "    <tr style=\"text-align: right;\">\n",
       "      <th></th>\n",
       "      <th>has_projects</th>\n",
       "      <th>has_wiki</th>\n",
       "    </tr>\n",
       "  </thead>\n",
       "  <tbody>\n",
       "    <tr>\n",
       "      <th>has_projects</th>\n",
       "      <td>1.000</td>\n",
       "      <td>0.286</td>\n",
       "    </tr>\n",
       "    <tr>\n",
       "      <th>has_wiki</th>\n",
       "      <td>0.286</td>\n",
       "      <td>1.000</td>\n",
       "    </tr>\n",
       "  </tbody>\n",
       "</table>\n",
       "</div>"
      ],
      "text/plain": [
       "              has_projects  has_wiki\n",
       "has_projects         1.000     0.286\n",
       "has_wiki             0.286     1.000"
      ]
     },
     "execution_count": 14,
     "metadata": {},
     "output_type": "execute_result"
    }
   ],
   "source": [
    "repo[['has_projects', 'has_wiki']].dropna().corr().round(3)"
   ]
  },
  {
   "cell_type": "markdown",
   "metadata": {},
   "source": [
    "#  Do hireable users follow more people than those who are not hireable?"
   ]
  },
  {
   "cell_type": "code",
   "execution_count": 10,
   "metadata": {},
   "outputs": [
    {
     "name": "stdout",
     "output_type": "stream",
     "text": [
      "Average following per user for hireable=true minus for non-hireable: 111.688\n"
     ]
    }
   ],
   "source": [
    "# Calculate average following for hireable users\n",
    "# Calculate average following for non-hireable users\n",
    "# Calculate the difference in averages\n",
    "# Round the result to 3 decimal places\n",
    "\n",
    "users['hireable'].fillna(np.nan, inplace =True)\n",
    "hireable_avg_following = users[users['hireable'] == True]['following'].mean()\n",
    "nonhireable_avg_following = users[users['hireable'].isna()]['following'].mean()\n",
    "average_difference = hireable_avg_following - nonhireable_avg_following\n",
    "\n",
    "print(f\"Average following per user for hireable=true minus for non-hireable: {average_difference.round(3)}\")"
   ]
  },
  {
   "cell_type": "markdown",
   "metadata": {},
   "source": [
    "# Some developers write long bios. Does that help them get more followers? What's the impact of the length of their bio (in Unicode words, split by whitespace) with followers? (Ignore people without bios)"
   ]
  },
  {
   "cell_type": "code",
   "execution_count": null,
   "metadata": {},
   "outputs": [],
   "source": [
    "#  Filter out rows with empty bios\n",
    "users_with_bios = users[~users['bio'].isna()]\n",
    "\n",
    "# Calculate the word count for each bio\n",
    "users_with_bios['bio_word_count'] = users_with_bios['bio'].astype(str).apply(lambda x: len(x.split()))\n",
    "\n",
    "# Prepare the independent and dependent variables\n",
    "X = users_with_bios['bio_word_count'].values.reshape(-1, 1)  # Word count\n",
    "y = users_with_bios['followers'].values  # Followers\n",
    "\n",
    "# Perform linear regression\n",
    "model = LinearRegression()\n",
    "model.fit(X, y)\n",
    "\n",
    "# Get the slope (coefficient)\n",
    "slope = model.coef_[0]\n",
    "\n",
    "print(f\"Regression slope of followers on bio word count: {slope.round(3)}\")"
   ]
  },
  {
   "cell_type": "markdown",
   "metadata": {},
   "source": [
    "# Who created the most repositories on weekends (UTC)? List the top 5 users' login in order, comma-separated"
   ]
  },
  {
   "cell_type": "code",
   "execution_count": null,
   "metadata": {},
   "outputs": [],
   "source": [
    "# Adjust datatype of column\n",
    "repo['created_at'] = pd.to_datetime(repo['created_at'], utc =True)\n",
    "# Filter for weekends (Saturday and Sunday)\n",
    "repo['weekday'] = repo['created_at'].dt.weekday\n",
    "weekend_repos = repo[repo['weekday'] >= 5]  # Saturday (5) and Sunday (6)\n",
    "\n",
    "# Group by 'login' and count weekend-created repo, then sort in descending order\n",
    "top_users = (\n",
    "    weekend_repos.groupby('login')\n",
    "    .size()\n",
    "    .sort_values(ascending=False)\n",
    "    .head(5)\n",
    "    .index\n",
    "    .tolist()\n",
    ")\n",
    "\n",
    "# Join top users' login names into a comma-separated string\n",
    "top_users_str = ', '.join(top_users)\n",
    "print(f\"Top 5 users' login who created most repositories on weekends: {top_users_str}\")"
   ]
  },
  {
   "cell_type": "markdown",
   "metadata": {},
   "source": [
    "# Do people who are hireable share their email addresses more often?"
   ]
  },
  {
   "cell_type": "code",
   "execution_count": null,
   "metadata": {},
   "outputs": [],
   "source": [
    "# A fraction of users refers to a proportion or percentage of users within a specific subset of the entire user base.\n",
    "\n",
    "# For example, if you're calculating the fraction of users who have provided an email address, \n",
    "# it means finding the ratio of users with an email to the total number of users."
   ]
  },
  {
   "cell_type": "code",
   "execution_count": 4,
   "metadata": {},
   "outputs": [],
   "source": [
    "hireable_with_email = set(users[(~users['email'].isna()) & (users['hireable']==True)]['login'])"
   ]
  },
  {
   "cell_type": "code",
   "execution_count": 5,
   "metadata": {},
   "outputs": [],
   "source": [
    "non_hireable_with_email  = set(users[(~users['email'].isna()) & (~(users['hireable']==True))]['login'])\n"
   ]
  },
  {
   "cell_type": "code",
   "execution_count": 6,
   "metadata": {},
   "outputs": [
    {
     "data": {
      "text/plain": [
       "-0.454"
      ]
     },
     "execution_count": 6,
     "metadata": {},
     "output_type": "execute_result"
    }
   ],
   "source": [
    "x  = len(hireable_with_email) / len(set(users[~users['email'].isna()]['login']))\n",
    "y = len(non_hireable_with_email) / len(set(users[~users['email'].isna()]['login']))\n",
    "round(x-y, 3)"
   ]
  },
  {
   "cell_type": "markdown",
   "metadata": {},
   "source": [
    "# Let's assume that the last word in a user's name is their surname (ignore missing names, trim and split by whitespace.) What's the most common surname? (If there's a tie, list them all, comma-separated, alphabetically)"
   ]
  },
  {
   "cell_type": "code",
   "execution_count": null,
   "metadata": {},
   "outputs": [],
   "source": [
    "# Filter out empty names and split to get last words\n",
    "users['surname'] = users['name'].str.strip().str.split().str[-1]\n",
    "\n",
    "# Count occurrences of each surname\n",
    "surname_counts = users['surname'].value_counts()\n",
    "\n",
    "# Find the maximum count\n",
    "max_count = surname_counts.max()\n",
    "\n",
    "# Get all surnames that have the maximum count\n",
    "most_common_surnames = surname_counts[surname_counts == max_count].index.tolist()\n",
    "\n",
    "print(f\"Most common surname(s): {most_common_surnames}\")"
   ]
  }
 ],
 "metadata": {
  "kernelspec": {
   "display_name": ".venv",
   "language": "python",
   "name": "python3"
  },
  "language_info": {
   "codemirror_mode": {
    "name": "ipython",
    "version": 3
   },
   "file_extension": ".py",
   "mimetype": "text/x-python",
   "name": "python",
   "nbconvert_exporter": "python",
   "pygments_lexer": "ipython3",
   "version": "3.11.4"
  }
 },
 "nbformat": 4,
 "nbformat_minor": 2
}
